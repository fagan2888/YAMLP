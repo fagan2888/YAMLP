{
 "cells": [
  {
   "cell_type": "code",
   "execution_count": 4,
   "metadata": {
    "collapsed": true
   },
   "outputs": [],
   "source": [
    "import pandas as pd"
   ]
  },
  {
   "cell_type": "code",
   "execution_count": 3,
   "metadata": {
    "collapsed": false
   },
   "outputs": [
    {
     "ename": "IOError",
     "evalue": "File X_pbe.csv does not exist",
     "output_type": "error",
     "traceback": [
      "\u001b[0;31m---------------------------------------------------------------------------\u001b[0m",
      "\u001b[0;31mIOError\u001b[0m                                   Traceback (most recent call last)",
      "\u001b[0;32m<ipython-input-3-e953832658fd>\u001b[0m in \u001b[0;36m<module>\u001b[0;34m()\u001b[0m\n\u001b[0;32m----> 1\u001b[0;31m \u001b[0mx_pbe\u001b[0m \u001b[0;34m=\u001b[0m \u001b[0mpd\u001b[0m\u001b[0;34m.\u001b[0m\u001b[0mread_csv\u001b[0m\u001b[0;34m(\u001b[0m\u001b[0;34m'X_pbe.csv'\u001b[0m\u001b[0;34m,\u001b[0m \u001b[0mheader\u001b[0m\u001b[0;34m=\u001b[0m\u001b[0mNone\u001b[0m\u001b[0;34m)\u001b[0m\u001b[0;34m\u001b[0m\u001b[0m\n\u001b[0m\u001b[1;32m      2\u001b[0m \u001b[0my_pbe\u001b[0m \u001b[0;34m=\u001b[0m \u001b[0mpd\u001b[0m\u001b[0;34m.\u001b[0m\u001b[0mread_csv\u001b[0m\u001b[0;34m(\u001b[0m\u001b[0;34m'Y_pbe.csv'\u001b[0m\u001b[0;34m,\u001b[0m \u001b[0mheader\u001b[0m\u001b[0;34m=\u001b[0m\u001b[0mNone\u001b[0m\u001b[0;34m)\u001b[0m\u001b[0;34m\u001b[0m\u001b[0m\n\u001b[1;32m      3\u001b[0m \u001b[0mz_pbe\u001b[0m \u001b[0;34m=\u001b[0m \u001b[0mpd\u001b[0m\u001b[0;34m.\u001b[0m\u001b[0mread_csv\u001b[0m\u001b[0;34m(\u001b[0m\u001b[0;34m'q_pbe.csv'\u001b[0m\u001b[0;34m,\u001b[0m \u001b[0mheader\u001b[0m\u001b[0;34m=\u001b[0m\u001b[0mNone\u001b[0m\u001b[0;34m)\u001b[0m\u001b[0;34m\u001b[0m\u001b[0m\n",
      "\u001b[0;32m/Users/walfits/anaconda2/lib/python2.7/site-packages/pandas/io/parsers.pyc\u001b[0m in \u001b[0;36mparser_f\u001b[0;34m(filepath_or_buffer, sep, delimiter, header, names, index_col, usecols, squeeze, prefix, mangle_dupe_cols, dtype, engine, converters, true_values, false_values, skipinitialspace, skiprows, nrows, na_values, keep_default_na, na_filter, verbose, skip_blank_lines, parse_dates, infer_datetime_format, keep_date_col, date_parser, dayfirst, iterator, chunksize, compression, thousands, decimal, lineterminator, quotechar, quoting, escapechar, comment, encoding, dialect, tupleize_cols, error_bad_lines, warn_bad_lines, skipfooter, skip_footer, doublequote, delim_whitespace, as_recarray, compact_ints, use_unsigned, low_memory, buffer_lines, memory_map, float_precision)\u001b[0m\n\u001b[1;32m    653\u001b[0m                     skip_blank_lines=skip_blank_lines)\n\u001b[1;32m    654\u001b[0m \u001b[0;34m\u001b[0m\u001b[0m\n\u001b[0;32m--> 655\u001b[0;31m         \u001b[0;32mreturn\u001b[0m \u001b[0m_read\u001b[0m\u001b[0;34m(\u001b[0m\u001b[0mfilepath_or_buffer\u001b[0m\u001b[0;34m,\u001b[0m \u001b[0mkwds\u001b[0m\u001b[0;34m)\u001b[0m\u001b[0;34m\u001b[0m\u001b[0m\n\u001b[0m\u001b[1;32m    656\u001b[0m \u001b[0;34m\u001b[0m\u001b[0m\n\u001b[1;32m    657\u001b[0m     \u001b[0mparser_f\u001b[0m\u001b[0;34m.\u001b[0m\u001b[0m__name__\u001b[0m \u001b[0;34m=\u001b[0m \u001b[0mname\u001b[0m\u001b[0;34m\u001b[0m\u001b[0m\n",
      "\u001b[0;32m/Users/walfits/anaconda2/lib/python2.7/site-packages/pandas/io/parsers.pyc\u001b[0m in \u001b[0;36m_read\u001b[0;34m(filepath_or_buffer, kwds)\u001b[0m\n\u001b[1;32m    403\u001b[0m \u001b[0;34m\u001b[0m\u001b[0m\n\u001b[1;32m    404\u001b[0m     \u001b[0;31m# Create the parser.\u001b[0m\u001b[0;34m\u001b[0m\u001b[0;34m\u001b[0m\u001b[0m\n\u001b[0;32m--> 405\u001b[0;31m     \u001b[0mparser\u001b[0m \u001b[0;34m=\u001b[0m \u001b[0mTextFileReader\u001b[0m\u001b[0;34m(\u001b[0m\u001b[0mfilepath_or_buffer\u001b[0m\u001b[0;34m,\u001b[0m \u001b[0;34m**\u001b[0m\u001b[0mkwds\u001b[0m\u001b[0;34m)\u001b[0m\u001b[0;34m\u001b[0m\u001b[0m\n\u001b[0m\u001b[1;32m    406\u001b[0m \u001b[0;34m\u001b[0m\u001b[0m\n\u001b[1;32m    407\u001b[0m     \u001b[0;32mif\u001b[0m \u001b[0mchunksize\u001b[0m \u001b[0;32mor\u001b[0m \u001b[0miterator\u001b[0m\u001b[0;34m:\u001b[0m\u001b[0;34m\u001b[0m\u001b[0m\n",
      "\u001b[0;32m/Users/walfits/anaconda2/lib/python2.7/site-packages/pandas/io/parsers.pyc\u001b[0m in \u001b[0;36m__init__\u001b[0;34m(self, f, engine, **kwds)\u001b[0m\n\u001b[1;32m    760\u001b[0m             \u001b[0mself\u001b[0m\u001b[0;34m.\u001b[0m\u001b[0moptions\u001b[0m\u001b[0;34m[\u001b[0m\u001b[0;34m'has_index_names'\u001b[0m\u001b[0;34m]\u001b[0m \u001b[0;34m=\u001b[0m \u001b[0mkwds\u001b[0m\u001b[0;34m[\u001b[0m\u001b[0;34m'has_index_names'\u001b[0m\u001b[0;34m]\u001b[0m\u001b[0;34m\u001b[0m\u001b[0m\n\u001b[1;32m    761\u001b[0m \u001b[0;34m\u001b[0m\u001b[0m\n\u001b[0;32m--> 762\u001b[0;31m         \u001b[0mself\u001b[0m\u001b[0;34m.\u001b[0m\u001b[0m_make_engine\u001b[0m\u001b[0;34m(\u001b[0m\u001b[0mself\u001b[0m\u001b[0;34m.\u001b[0m\u001b[0mengine\u001b[0m\u001b[0;34m)\u001b[0m\u001b[0;34m\u001b[0m\u001b[0m\n\u001b[0m\u001b[1;32m    763\u001b[0m \u001b[0;34m\u001b[0m\u001b[0m\n\u001b[1;32m    764\u001b[0m     \u001b[0;32mdef\u001b[0m \u001b[0mclose\u001b[0m\u001b[0;34m(\u001b[0m\u001b[0mself\u001b[0m\u001b[0;34m)\u001b[0m\u001b[0;34m:\u001b[0m\u001b[0;34m\u001b[0m\u001b[0m\n",
      "\u001b[0;32m/Users/walfits/anaconda2/lib/python2.7/site-packages/pandas/io/parsers.pyc\u001b[0m in \u001b[0;36m_make_engine\u001b[0;34m(self, engine)\u001b[0m\n\u001b[1;32m    964\u001b[0m     \u001b[0;32mdef\u001b[0m \u001b[0m_make_engine\u001b[0m\u001b[0;34m(\u001b[0m\u001b[0mself\u001b[0m\u001b[0;34m,\u001b[0m \u001b[0mengine\u001b[0m\u001b[0;34m=\u001b[0m\u001b[0;34m'c'\u001b[0m\u001b[0;34m)\u001b[0m\u001b[0;34m:\u001b[0m\u001b[0;34m\u001b[0m\u001b[0m\n\u001b[1;32m    965\u001b[0m         \u001b[0;32mif\u001b[0m \u001b[0mengine\u001b[0m \u001b[0;34m==\u001b[0m \u001b[0;34m'c'\u001b[0m\u001b[0;34m:\u001b[0m\u001b[0;34m\u001b[0m\u001b[0m\n\u001b[0;32m--> 966\u001b[0;31m             \u001b[0mself\u001b[0m\u001b[0;34m.\u001b[0m\u001b[0m_engine\u001b[0m \u001b[0;34m=\u001b[0m \u001b[0mCParserWrapper\u001b[0m\u001b[0;34m(\u001b[0m\u001b[0mself\u001b[0m\u001b[0;34m.\u001b[0m\u001b[0mf\u001b[0m\u001b[0;34m,\u001b[0m \u001b[0;34m**\u001b[0m\u001b[0mself\u001b[0m\u001b[0;34m.\u001b[0m\u001b[0moptions\u001b[0m\u001b[0;34m)\u001b[0m\u001b[0;34m\u001b[0m\u001b[0m\n\u001b[0m\u001b[1;32m    967\u001b[0m         \u001b[0;32melse\u001b[0m\u001b[0;34m:\u001b[0m\u001b[0;34m\u001b[0m\u001b[0m\n\u001b[1;32m    968\u001b[0m             \u001b[0;32mif\u001b[0m \u001b[0mengine\u001b[0m \u001b[0;34m==\u001b[0m \u001b[0;34m'python'\u001b[0m\u001b[0;34m:\u001b[0m\u001b[0;34m\u001b[0m\u001b[0m\n",
      "\u001b[0;32m/Users/walfits/anaconda2/lib/python2.7/site-packages/pandas/io/parsers.pyc\u001b[0m in \u001b[0;36m__init__\u001b[0;34m(self, src, **kwds)\u001b[0m\n\u001b[1;32m   1580\u001b[0m         \u001b[0mkwds\u001b[0m\u001b[0;34m[\u001b[0m\u001b[0;34m'allow_leading_cols'\u001b[0m\u001b[0;34m]\u001b[0m \u001b[0;34m=\u001b[0m \u001b[0mself\u001b[0m\u001b[0;34m.\u001b[0m\u001b[0mindex_col\u001b[0m \u001b[0;32mis\u001b[0m \u001b[0;32mnot\u001b[0m \u001b[0mFalse\u001b[0m\u001b[0;34m\u001b[0m\u001b[0m\n\u001b[1;32m   1581\u001b[0m \u001b[0;34m\u001b[0m\u001b[0m\n\u001b[0;32m-> 1582\u001b[0;31m         \u001b[0mself\u001b[0m\u001b[0;34m.\u001b[0m\u001b[0m_reader\u001b[0m \u001b[0;34m=\u001b[0m \u001b[0mparsers\u001b[0m\u001b[0;34m.\u001b[0m\u001b[0mTextReader\u001b[0m\u001b[0;34m(\u001b[0m\u001b[0msrc\u001b[0m\u001b[0;34m,\u001b[0m \u001b[0;34m**\u001b[0m\u001b[0mkwds\u001b[0m\u001b[0;34m)\u001b[0m\u001b[0;34m\u001b[0m\u001b[0m\n\u001b[0m\u001b[1;32m   1583\u001b[0m \u001b[0;34m\u001b[0m\u001b[0m\n\u001b[1;32m   1584\u001b[0m         \u001b[0;31m# XXX\u001b[0m\u001b[0;34m\u001b[0m\u001b[0;34m\u001b[0m\u001b[0m\n",
      "\u001b[0;32mpandas/_libs/parsers.pyx\u001b[0m in \u001b[0;36mpandas._libs.parsers.TextReader.__cinit__ (pandas/_libs/parsers.c:4209)\u001b[0;34m()\u001b[0m\n",
      "\u001b[0;32mpandas/_libs/parsers.pyx\u001b[0m in \u001b[0;36mpandas._libs.parsers.TextReader._setup_parser_source (pandas/_libs/parsers.c:8873)\u001b[0;34m()\u001b[0m\n",
      "\u001b[0;31mIOError\u001b[0m: File X_pbe.csv does not exist"
     ]
    }
   ],
   "source": [
    "x_pbe = pd.read_csv('X_pbe.csv', header=None)\n",
    "y_pbe = pd.read_csv('Y_pbe.csv', header=None)\n",
    "z_pbe = pd.read_csv('q_pbe.csv', header=None)"
   ]
  },
  {
   "cell_type": "code",
   "execution_count": null,
   "metadata": {
    "collapsed": false
   },
   "outputs": [],
   "source": [
    "print(x_pbe.shape)\n",
    "print(z_pbe.shape)"
   ]
  },
  {
   "cell_type": "code",
   "execution_count": 68,
   "metadata": {
    "collapsed": false
   },
   "outputs": [
    {
     "data": {
      "text/html": [
       "<div>\n",
       "<style>\n",
       "    .dataframe thead tr:only-child th {\n",
       "        text-align: right;\n",
       "    }\n",
       "\n",
       "    .dataframe thead th {\n",
       "        text-align: left;\n",
       "    }\n",
       "\n",
       "    .dataframe tbody tr th {\n",
       "        vertical-align: top;\n",
       "    }\n",
       "</style>\n",
       "<table border=\"1\" class=\"dataframe\">\n",
       "  <thead>\n",
       "    <tr style=\"text-align: right;\">\n",
       "      <th></th>\n",
       "      <th>0</th>\n",
       "      <th>1</th>\n",
       "      <th>2</th>\n",
       "      <th>3</th>\n",
       "      <th>4</th>\n",
       "      <th>5</th>\n",
       "      <th>6</th>\n",
       "      <th>7</th>\n",
       "      <th>8</th>\n",
       "      <th>9</th>\n",
       "      <th>...</th>\n",
       "      <th>19</th>\n",
       "      <th>20</th>\n",
       "      <th>21</th>\n",
       "      <th>22</th>\n",
       "      <th>23</th>\n",
       "      <th>24</th>\n",
       "      <th>25</th>\n",
       "      <th>26</th>\n",
       "      <th>27</th>\n",
       "      <th>28</th>\n",
       "    </tr>\n",
       "  </thead>\n",
       "  <tbody>\n",
       "    <tr>\n",
       "      <th>0</th>\n",
       "      <td>C</td>\n",
       "      <td>1.350508</td>\n",
       "      <td>0.779024</td>\n",
       "      <td>0.663087</td>\n",
       "      <td>H</td>\n",
       "      <td>1.825709</td>\n",
       "      <td>1.257877</td>\n",
       "      <td>-0.189170</td>\n",
       "      <td>H</td>\n",
       "      <td>1.848891</td>\n",
       "      <td>...</td>\n",
       "      <td>0.559417</td>\n",
       "      <td>C</td>\n",
       "      <td>-1.832366</td>\n",
       "      <td>1.293790</td>\n",
       "      <td>-2.492349</td>\n",
       "      <td>N</td>\n",
       "      <td>-1.370433</td>\n",
       "      <td>2.318893</td>\n",
       "      <td>-2.582710</td>\n",
       "      <td>NaN</td>\n",
       "    </tr>\n",
       "    <tr>\n",
       "      <th>1</th>\n",
       "      <td>C</td>\n",
       "      <td>1.366716</td>\n",
       "      <td>0.804290</td>\n",
       "      <td>0.682895</td>\n",
       "      <td>H</td>\n",
       "      <td>1.759809</td>\n",
       "      <td>1.361483</td>\n",
       "      <td>-0.178094</td>\n",
       "      <td>H</td>\n",
       "      <td>1.814160</td>\n",
       "      <td>...</td>\n",
       "      <td>0.594701</td>\n",
       "      <td>C</td>\n",
       "      <td>-1.830842</td>\n",
       "      <td>1.305028</td>\n",
       "      <td>-2.473094</td>\n",
       "      <td>N</td>\n",
       "      <td>-1.354430</td>\n",
       "      <td>2.319260</td>\n",
       "      <td>-2.596931</td>\n",
       "      <td>NaN</td>\n",
       "    </tr>\n",
       "    <tr>\n",
       "      <th>2</th>\n",
       "      <td>C</td>\n",
       "      <td>1.438315</td>\n",
       "      <td>1.060388</td>\n",
       "      <td>0.832979</td>\n",
       "      <td>H</td>\n",
       "      <td>1.571861</td>\n",
       "      <td>1.944143</td>\n",
       "      <td>0.147314</td>\n",
       "      <td>H</td>\n",
       "      <td>1.577013</td>\n",
       "      <td>...</td>\n",
       "      <td>0.736083</td>\n",
       "      <td>C</td>\n",
       "      <td>-1.806108</td>\n",
       "      <td>1.415889</td>\n",
       "      <td>-2.311002</td>\n",
       "      <td>N</td>\n",
       "      <td>-1.218195</td>\n",
       "      <td>2.315162</td>\n",
       "      <td>-2.715039</td>\n",
       "      <td>NaN</td>\n",
       "    </tr>\n",
       "    <tr>\n",
       "      <th>3</th>\n",
       "      <td>C</td>\n",
       "      <td>1.948153</td>\n",
       "      <td>3.622904</td>\n",
       "      <td>2.081111</td>\n",
       "      <td>H</td>\n",
       "      <td>2.049626</td>\n",
       "      <td>3.765616</td>\n",
       "      <td>1.000288</td>\n",
       "      <td>H</td>\n",
       "      <td>2.693285</td>\n",
       "      <td>...</td>\n",
       "      <td>2.399583</td>\n",
       "      <td>C</td>\n",
       "      <td>-0.414736</td>\n",
       "      <td>2.940226</td>\n",
       "      <td>-2.453864</td>\n",
       "      <td>N</td>\n",
       "      <td>-0.876473</td>\n",
       "      <td>1.892105</td>\n",
       "      <td>-2.385047</td>\n",
       "      <td>NaN</td>\n",
       "    </tr>\n",
       "    <tr>\n",
       "      <th>4</th>\n",
       "      <td>C</td>\n",
       "      <td>2.649527</td>\n",
       "      <td>-0.695892</td>\n",
       "      <td>-3.065414</td>\n",
       "      <td>H</td>\n",
       "      <td>2.440014</td>\n",
       "      <td>-0.515189</td>\n",
       "      <td>-4.127145</td>\n",
       "      <td>H</td>\n",
       "      <td>-0.446906</td>\n",
       "      <td>...</td>\n",
       "      <td>-2.347429</td>\n",
       "      <td>C</td>\n",
       "      <td>0.249546</td>\n",
       "      <td>-3.627168</td>\n",
       "      <td>-3.224564</td>\n",
       "      <td>N</td>\n",
       "      <td>0.433013</td>\n",
       "      <td>-4.760249</td>\n",
       "      <td>-3.264235</td>\n",
       "      <td>NaN</td>\n",
       "    </tr>\n",
       "  </tbody>\n",
       "</table>\n",
       "<p>5 rows × 29 columns</p>\n",
       "</div>"
      ],
      "text/plain": [
       "  0         1         2         3  4         5         6         7  8   \\\n",
       "0  C  1.350508  0.779024  0.663087  H  1.825709  1.257877 -0.189170  H   \n",
       "1  C  1.366716  0.804290  0.682895  H  1.759809  1.361483 -0.178094  H   \n",
       "2  C  1.438315  1.060388  0.832979  H  1.571861  1.944143  0.147314  H   \n",
       "3  C  1.948153  3.622904  2.081111  H  2.049626  3.765616  1.000288  H   \n",
       "4  C  2.649527 -0.695892 -3.065414  H  2.440014 -0.515189 -4.127145  H   \n",
       "\n",
       "         9  ...        19  20        21        22        23  24        25  \\\n",
       "0  1.848891 ...  0.559417   C -1.832366  1.293790 -2.492349   N -1.370433   \n",
       "1  1.814160 ...  0.594701   C -1.830842  1.305028 -2.473094   N -1.354430   \n",
       "2  1.577013 ...  0.736083   C -1.806108  1.415889 -2.311002   N -1.218195   \n",
       "3  2.693285 ...  2.399583   C -0.414736  2.940226 -2.453864   N -0.876473   \n",
       "4 -0.446906 ... -2.347429   C  0.249546 -3.627168 -3.224564   N  0.433013   \n",
       "\n",
       "         26        27  28  \n",
       "0  2.318893 -2.582710 NaN  \n",
       "1  2.319260 -2.596931 NaN  \n",
       "2  2.315162 -2.715039 NaN  \n",
       "3  1.892105 -2.385047 NaN  \n",
       "4 -4.760249 -3.264235 NaN  \n",
       "\n",
       "[5 rows x 29 columns]"
      ]
     },
     "execution_count": 68,
     "metadata": {},
     "output_type": "execute_result"
    }
   ],
   "source": [
    "x_pbe.head()"
   ]
  },
  {
   "cell_type": "code",
   "execution_count": 69,
   "metadata": {
    "collapsed": false
   },
   "outputs": [
    {
     "data": {
      "text/plain": [
       "(47733, 21)"
      ]
     },
     "execution_count": 69,
     "metadata": {},
     "output_type": "execute_result"
    }
   ],
   "source": [
    "rm_col = range(0,32,4)\n",
    "x_pbe = x_pbe.drop(rm_col, axis=1)\n",
    "x_pbe.shape"
   ]
  },
  {
   "cell_type": "code",
   "execution_count": 70,
   "metadata": {
    "collapsed": true
   },
   "outputs": [],
   "source": [
    "x_pbe.columns=['C1x', 'C1y', 'C1z', 'H1x', 'H1y', 'H1z', 'H2x', 'H2y', 'H2z', 'H3x', 'H3y', 'H3z', 'H4x', 'H4y', 'H4z', 'C2x', 'C2y', 'C2z', 'Nx', 'Ny', 'Nz']"
   ]
  },
  {
   "cell_type": "code",
   "execution_count": 71,
   "metadata": {
    "collapsed": false
   },
   "outputs": [],
   "source": [
    "y_pbe.columns=['energy_pbe']"
   ]
  },
  {
   "cell_type": "code",
   "execution_count": 72,
   "metadata": {
    "collapsed": false
   },
   "outputs": [],
   "source": [
    "rm_col = range(0,16,2)"
   ]
  },
  {
   "cell_type": "code",
   "execution_count": 73,
   "metadata": {
    "collapsed": false
   },
   "outputs": [
    {
     "data": {
      "text/html": [
       "<div>\n",
       "<style>\n",
       "    .dataframe thead tr:only-child th {\n",
       "        text-align: right;\n",
       "    }\n",
       "\n",
       "    .dataframe thead th {\n",
       "        text-align: left;\n",
       "    }\n",
       "\n",
       "    .dataframe tbody tr th {\n",
       "        vertical-align: top;\n",
       "    }\n",
       "</style>\n",
       "<table border=\"1\" class=\"dataframe\">\n",
       "  <thead>\n",
       "    <tr style=\"text-align: right;\">\n",
       "      <th></th>\n",
       "      <th>1</th>\n",
       "      <th>3</th>\n",
       "      <th>5</th>\n",
       "      <th>7</th>\n",
       "      <th>9</th>\n",
       "      <th>11</th>\n",
       "      <th>13</th>\n",
       "    </tr>\n",
       "  </thead>\n",
       "  <tbody>\n",
       "    <tr>\n",
       "      <th>0</th>\n",
       "      <td>6.55438</td>\n",
       "      <td>0.86062</td>\n",
       "      <td>0.86105</td>\n",
       "      <td>0.86199</td>\n",
       "      <td>0.86194</td>\n",
       "      <td>6.18917</td>\n",
       "      <td>6.81086</td>\n",
       "    </tr>\n",
       "    <tr>\n",
       "      <th>1</th>\n",
       "      <td>6.54250</td>\n",
       "      <td>0.86282</td>\n",
       "      <td>0.86075</td>\n",
       "      <td>0.86827</td>\n",
       "      <td>0.86548</td>\n",
       "      <td>6.18986</td>\n",
       "      <td>6.81033</td>\n",
       "    </tr>\n",
       "    <tr>\n",
       "      <th>2</th>\n",
       "      <td>5.93576</td>\n",
       "      <td>0.71892</td>\n",
       "      <td>0.83033</td>\n",
       "      <td>0.69595</td>\n",
       "      <td>0.81927</td>\n",
       "      <td>6.66135</td>\n",
       "      <td>7.33841</td>\n",
       "    </tr>\n",
       "    <tr>\n",
       "      <th>3</th>\n",
       "      <td>6.54921</td>\n",
       "      <td>0.86531</td>\n",
       "      <td>0.85578</td>\n",
       "      <td>0.87014</td>\n",
       "      <td>0.85956</td>\n",
       "      <td>6.17456</td>\n",
       "      <td>6.82544</td>\n",
       "    </tr>\n",
       "    <tr>\n",
       "      <th>4</th>\n",
       "      <td>6.45450</td>\n",
       "      <td>0.84487</td>\n",
       "      <td>0.82359</td>\n",
       "      <td>0.84965</td>\n",
       "      <td>0.85046</td>\n",
       "      <td>6.04506</td>\n",
       "      <td>7.13187</td>\n",
       "    </tr>\n",
       "  </tbody>\n",
       "</table>\n",
       "</div>"
      ],
      "text/plain": [
       "        1        3        5        7        9        11       13\n",
       "0  6.55438  0.86062  0.86105  0.86199  0.86194  6.18917  6.81086\n",
       "1  6.54250  0.86282  0.86075  0.86827  0.86548  6.18986  6.81033\n",
       "2  5.93576  0.71892  0.83033  0.69595  0.81927  6.66135  7.33841\n",
       "3  6.54921  0.86531  0.85578  0.87014  0.85956  6.17456  6.82544\n",
       "4  6.45450  0.84487  0.82359  0.84965  0.85046  6.04506  7.13187"
      ]
     },
     "execution_count": 73,
     "metadata": {},
     "output_type": "execute_result"
    }
   ],
   "source": [
    "z_pbe = z_pbe.drop(rm_col, axis=1)\n",
    "z_pbe.head()"
   ]
  },
  {
   "cell_type": "code",
   "execution_count": 74,
   "metadata": {
    "collapsed": true
   },
   "outputs": [],
   "source": [
    "z_pbe.columns=['C1q', 'H1q','H2q','H3q','H4q','C2q','Nq']"
   ]
  },
  {
   "cell_type": "code",
   "execution_count": 75,
   "metadata": {
    "collapsed": false
   },
   "outputs": [
    {
     "data": {
      "text/html": [
       "<div>\n",
       "<style>\n",
       "    .dataframe thead tr:only-child th {\n",
       "        text-align: right;\n",
       "    }\n",
       "\n",
       "    .dataframe thead th {\n",
       "        text-align: left;\n",
       "    }\n",
       "\n",
       "    .dataframe tbody tr th {\n",
       "        vertical-align: top;\n",
       "    }\n",
       "</style>\n",
       "<table border=\"1\" class=\"dataframe\">\n",
       "  <thead>\n",
       "    <tr style=\"text-align: right;\">\n",
       "      <th></th>\n",
       "      <th>C1x</th>\n",
       "      <th>C1y</th>\n",
       "      <th>C1z</th>\n",
       "      <th>H1x</th>\n",
       "      <th>H1y</th>\n",
       "      <th>H1z</th>\n",
       "      <th>H2x</th>\n",
       "      <th>H2y</th>\n",
       "      <th>H2z</th>\n",
       "      <th>H3x</th>\n",
       "      <th>...</th>\n",
       "      <th>Ny</th>\n",
       "      <th>Nz</th>\n",
       "      <th>C1q</th>\n",
       "      <th>H1q</th>\n",
       "      <th>H2q</th>\n",
       "      <th>H3q</th>\n",
       "      <th>H4q</th>\n",
       "      <th>C2q</th>\n",
       "      <th>Nq</th>\n",
       "      <th>energy_pbe</th>\n",
       "    </tr>\n",
       "  </thead>\n",
       "  <tbody>\n",
       "    <tr>\n",
       "      <th>0</th>\n",
       "      <td>1.350508</td>\n",
       "      <td>0.779024</td>\n",
       "      <td>0.663087</td>\n",
       "      <td>1.825709</td>\n",
       "      <td>1.257877</td>\n",
       "      <td>-0.189170</td>\n",
       "      <td>1.848891</td>\n",
       "      <td>1.089646</td>\n",
       "      <td>1.577782</td>\n",
       "      <td>0.303730</td>\n",
       "      <td>...</td>\n",
       "      <td>2.318893</td>\n",
       "      <td>-2.582710</td>\n",
       "      <td>6.55438</td>\n",
       "      <td>0.86062</td>\n",
       "      <td>0.86105</td>\n",
       "      <td>0.86199</td>\n",
       "      <td>0.86194</td>\n",
       "      <td>6.18917</td>\n",
       "      <td>6.81086</td>\n",
       "      <td>-131.356978</td>\n",
       "    </tr>\n",
       "    <tr>\n",
       "      <th>1</th>\n",
       "      <td>1.366716</td>\n",
       "      <td>0.804290</td>\n",
       "      <td>0.682895</td>\n",
       "      <td>1.759809</td>\n",
       "      <td>1.361483</td>\n",
       "      <td>-0.178094</td>\n",
       "      <td>1.814160</td>\n",
       "      <td>1.125417</td>\n",
       "      <td>1.600315</td>\n",
       "      <td>0.283706</td>\n",
       "      <td>...</td>\n",
       "      <td>2.319260</td>\n",
       "      <td>-2.596931</td>\n",
       "      <td>6.54250</td>\n",
       "      <td>0.86282</td>\n",
       "      <td>0.86075</td>\n",
       "      <td>0.86827</td>\n",
       "      <td>0.86548</td>\n",
       "      <td>6.18986</td>\n",
       "      <td>6.81033</td>\n",
       "      <td>-131.353254</td>\n",
       "    </tr>\n",
       "    <tr>\n",
       "      <th>2</th>\n",
       "      <td>1.438315</td>\n",
       "      <td>1.060388</td>\n",
       "      <td>0.832979</td>\n",
       "      <td>1.571861</td>\n",
       "      <td>1.944143</td>\n",
       "      <td>0.147314</td>\n",
       "      <td>1.577013</td>\n",
       "      <td>1.523847</td>\n",
       "      <td>1.780924</td>\n",
       "      <td>0.419598</td>\n",
       "      <td>...</td>\n",
       "      <td>2.315162</td>\n",
       "      <td>-2.715039</td>\n",
       "      <td>5.93576</td>\n",
       "      <td>0.71892</td>\n",
       "      <td>0.83033</td>\n",
       "      <td>0.69595</td>\n",
       "      <td>0.81927</td>\n",
       "      <td>6.66135</td>\n",
       "      <td>7.33841</td>\n",
       "      <td>-131.317326</td>\n",
       "    </tr>\n",
       "    <tr>\n",
       "      <th>3</th>\n",
       "      <td>1.948153</td>\n",
       "      <td>3.622904</td>\n",
       "      <td>2.081111</td>\n",
       "      <td>2.049626</td>\n",
       "      <td>3.765616</td>\n",
       "      <td>1.000288</td>\n",
       "      <td>2.693285</td>\n",
       "      <td>2.923731</td>\n",
       "      <td>2.344320</td>\n",
       "      <td>2.305255</td>\n",
       "      <td>...</td>\n",
       "      <td>1.892105</td>\n",
       "      <td>-2.385047</td>\n",
       "      <td>6.54921</td>\n",
       "      <td>0.86531</td>\n",
       "      <td>0.85578</td>\n",
       "      <td>0.87014</td>\n",
       "      <td>0.85956</td>\n",
       "      <td>6.17456</td>\n",
       "      <td>6.82544</td>\n",
       "      <td>-131.353906</td>\n",
       "    </tr>\n",
       "    <tr>\n",
       "      <th>4</th>\n",
       "      <td>2.649527</td>\n",
       "      <td>-0.695892</td>\n",
       "      <td>-3.065414</td>\n",
       "      <td>2.440014</td>\n",
       "      <td>-0.515189</td>\n",
       "      <td>-4.127145</td>\n",
       "      <td>-0.446906</td>\n",
       "      <td>-2.739519</td>\n",
       "      <td>-2.943782</td>\n",
       "      <td>3.260095</td>\n",
       "      <td>...</td>\n",
       "      <td>-4.760249</td>\n",
       "      <td>-3.264235</td>\n",
       "      <td>6.45450</td>\n",
       "      <td>0.84487</td>\n",
       "      <td>0.82359</td>\n",
       "      <td>0.84965</td>\n",
       "      <td>0.85046</td>\n",
       "      <td>6.04506</td>\n",
       "      <td>7.13187</td>\n",
       "      <td>-131.348082</td>\n",
       "    </tr>\n",
       "  </tbody>\n",
       "</table>\n",
       "<p>5 rows × 29 columns</p>\n",
       "</div>"
      ],
      "text/plain": [
       "        C1x       C1y       C1z       H1x       H1y       H1z       H2x  \\\n",
       "0  1.350508  0.779024  0.663087  1.825709  1.257877 -0.189170  1.848891   \n",
       "1  1.366716  0.804290  0.682895  1.759809  1.361483 -0.178094  1.814160   \n",
       "2  1.438315  1.060388  0.832979  1.571861  1.944143  0.147314  1.577013   \n",
       "3  1.948153  3.622904  2.081111  2.049626  3.765616  1.000288  2.693285   \n",
       "4  2.649527 -0.695892 -3.065414  2.440014 -0.515189 -4.127145 -0.446906   \n",
       "\n",
       "        H2y       H2z       H3x     ...            Ny        Nz      C1q  \\\n",
       "0  1.089646  1.577782  0.303730     ...      2.318893 -2.582710  6.55438   \n",
       "1  1.125417  1.600315  0.283706     ...      2.319260 -2.596931  6.54250   \n",
       "2  1.523847  1.780924  0.419598     ...      2.315162 -2.715039  5.93576   \n",
       "3  2.923731  2.344320  2.305255     ...      1.892105 -2.385047  6.54921   \n",
       "4 -2.739519 -2.943782  3.260095     ...     -4.760249 -3.264235  6.45450   \n",
       "\n",
       "       H1q      H2q      H3q      H4q      C2q       Nq  energy_pbe  \n",
       "0  0.86062  0.86105  0.86199  0.86194  6.18917  6.81086 -131.356978  \n",
       "1  0.86282  0.86075  0.86827  0.86548  6.18986  6.81033 -131.353254  \n",
       "2  0.71892  0.83033  0.69595  0.81927  6.66135  7.33841 -131.317326  \n",
       "3  0.86531  0.85578  0.87014  0.85956  6.17456  6.82544 -131.353906  \n",
       "4  0.84487  0.82359  0.84965  0.85046  6.04506  7.13187 -131.348082  \n",
       "\n",
       "[5 rows x 29 columns]"
      ]
     },
     "execution_count": 75,
     "metadata": {},
     "output_type": "execute_result"
    }
   ],
   "source": [
    "xzy_pbe = pd.concat([x_pbe, z_pbe, y_pbe], axis=1)\n",
    "xzy_pbe.head()"
   ]
  },
  {
   "cell_type": "code",
   "execution_count": 76,
   "metadata": {
    "collapsed": true
   },
   "outputs": [],
   "source": [
    "xzy_pbe_u = xzy_pbe.drop_duplicates(inplace=False)"
   ]
  },
  {
   "cell_type": "code",
   "execution_count": 77,
   "metadata": {
    "collapsed": false
   },
   "outputs": [
    {
     "name": "stdout",
     "output_type": "stream",
     "text": [
      "(47733, 29)\n",
      "(47717, 29)\n"
     ]
    }
   ],
   "source": [
    "print xzy_pbe.shape\n",
    "print xzy_pbe_u.shape"
   ]
  },
  {
   "cell_type": "code",
   "execution_count": 78,
   "metadata": {
    "collapsed": true
   },
   "outputs": [],
   "source": [
    "x_b3lyp = pd.read_csv('X_b3lyp.csv', header=None)\n",
    "y_b3lyp = pd.read_csv('Y_b3lyp.csv', header=None)"
   ]
  },
  {
   "cell_type": "code",
   "execution_count": 79,
   "metadata": {
    "collapsed": false
   },
   "outputs": [
    {
     "name": "stdout",
     "output_type": "stream",
     "text": [
      "(17756, 29)\n",
      "(17756, 1)\n"
     ]
    }
   ],
   "source": [
    "print(x_b3lyp.shape)\n",
    "print(y_b3lyp.shape)"
   ]
  },
  {
   "cell_type": "code",
   "execution_count": 80,
   "metadata": {
    "collapsed": false
   },
   "outputs": [
    {
     "data": {
      "text/plain": [
       "(17756, 21)"
      ]
     },
     "execution_count": 80,
     "metadata": {},
     "output_type": "execute_result"
    }
   ],
   "source": [
    "rm_col = range(0,32,4)\n",
    "x_b3lyp = x_b3lyp.drop(rm_col, axis=1)\n",
    "x_b3lyp.shape"
   ]
  },
  {
   "cell_type": "code",
   "execution_count": 81,
   "metadata": {
    "collapsed": true
   },
   "outputs": [],
   "source": [
    "x_b3lyp.columns=['C1x', 'C1y', 'C1z', 'H1x', 'H1y', 'H1z', 'H2x', 'H2y', 'H2z', 'H3x', 'H3y', 'H3z', 'H4x', 'H4y', 'H4z', 'C2x', 'C2y', 'C2z', 'Nx', 'Ny', 'Nz']"
   ]
  },
  {
   "cell_type": "code",
   "execution_count": 82,
   "metadata": {
    "collapsed": true
   },
   "outputs": [],
   "source": [
    "y_b3lyp.columns=['energy_b3lyp']"
   ]
  },
  {
   "cell_type": "code",
   "execution_count": 83,
   "metadata": {
    "collapsed": true
   },
   "outputs": [],
   "source": [
    "xy_b3lyp = pd.concat([x_b3lyp, y_b3lyp], axis=1)"
   ]
  },
  {
   "cell_type": "code",
   "execution_count": 84,
   "metadata": {
    "collapsed": false
   },
   "outputs": [
    {
     "data": {
      "text/html": [
       "<div>\n",
       "<style>\n",
       "    .dataframe thead tr:only-child th {\n",
       "        text-align: right;\n",
       "    }\n",
       "\n",
       "    .dataframe thead th {\n",
       "        text-align: left;\n",
       "    }\n",
       "\n",
       "    .dataframe tbody tr th {\n",
       "        vertical-align: top;\n",
       "    }\n",
       "</style>\n",
       "<table border=\"1\" class=\"dataframe\">\n",
       "  <thead>\n",
       "    <tr style=\"text-align: right;\">\n",
       "      <th></th>\n",
       "      <th>C1x</th>\n",
       "      <th>C1y</th>\n",
       "      <th>C1z</th>\n",
       "      <th>H1x</th>\n",
       "      <th>H1y</th>\n",
       "      <th>H1z</th>\n",
       "      <th>H2x</th>\n",
       "      <th>H2y</th>\n",
       "      <th>H2z</th>\n",
       "      <th>H3x</th>\n",
       "      <th>...</th>\n",
       "      <th>H4x</th>\n",
       "      <th>H4y</th>\n",
       "      <th>H4z</th>\n",
       "      <th>C2x</th>\n",
       "      <th>C2y</th>\n",
       "      <th>C2z</th>\n",
       "      <th>Nx</th>\n",
       "      <th>Ny</th>\n",
       "      <th>Nz</th>\n",
       "      <th>energy_b3lyp</th>\n",
       "    </tr>\n",
       "  </thead>\n",
       "  <tbody>\n",
       "    <tr>\n",
       "      <th>0</th>\n",
       "      <td>1.350508</td>\n",
       "      <td>0.779024</td>\n",
       "      <td>0.663087</td>\n",
       "      <td>1.825709</td>\n",
       "      <td>1.257877</td>\n",
       "      <td>-0.189170</td>\n",
       "      <td>1.848891</td>\n",
       "      <td>1.089646</td>\n",
       "      <td>1.577782</td>\n",
       "      <td>0.303730</td>\n",
       "      <td>...</td>\n",
       "      <td>1.423537</td>\n",
       "      <td>-0.300512</td>\n",
       "      <td>0.559417</td>\n",
       "      <td>-1.832366</td>\n",
       "      <td>1.293790</td>\n",
       "      <td>-2.492349</td>\n",
       "      <td>-1.370433</td>\n",
       "      <td>2.318893</td>\n",
       "      <td>-2.582710</td>\n",
       "      <td>-133.198709</td>\n",
       "    </tr>\n",
       "    <tr>\n",
       "      <th>1</th>\n",
       "      <td>1.366716</td>\n",
       "      <td>0.804290</td>\n",
       "      <td>0.682895</td>\n",
       "      <td>1.759809</td>\n",
       "      <td>1.361483</td>\n",
       "      <td>-0.178094</td>\n",
       "      <td>1.814160</td>\n",
       "      <td>1.125417</td>\n",
       "      <td>1.600315</td>\n",
       "      <td>0.283706</td>\n",
       "      <td>...</td>\n",
       "      <td>1.449777</td>\n",
       "      <td>-0.299335</td>\n",
       "      <td>0.594701</td>\n",
       "      <td>-1.830842</td>\n",
       "      <td>1.305028</td>\n",
       "      <td>-2.473094</td>\n",
       "      <td>-1.354430</td>\n",
       "      <td>2.319260</td>\n",
       "      <td>-2.596931</td>\n",
       "      <td>-133.195259</td>\n",
       "    </tr>\n",
       "    <tr>\n",
       "      <th>2</th>\n",
       "      <td>-3.803611</td>\n",
       "      <td>-2.267309</td>\n",
       "      <td>0.764900</td>\n",
       "      <td>-3.796598</td>\n",
       "      <td>-3.150483</td>\n",
       "      <td>1.493531</td>\n",
       "      <td>-4.393698</td>\n",
       "      <td>-1.399793</td>\n",
       "      <td>1.007952</td>\n",
       "      <td>-4.217465</td>\n",
       "      <td>...</td>\n",
       "      <td>-2.655651</td>\n",
       "      <td>-0.866691</td>\n",
       "      <td>1.937266</td>\n",
       "      <td>-2.613919</td>\n",
       "      <td>0.179199</td>\n",
       "      <td>2.330572</td>\n",
       "      <td>-2.536911</td>\n",
       "      <td>1.241336</td>\n",
       "      <td>2.765962</td>\n",
       "      <td>-133.215182</td>\n",
       "    </tr>\n",
       "    <tr>\n",
       "      <th>3</th>\n",
       "      <td>-2.927686</td>\n",
       "      <td>0.153773</td>\n",
       "      <td>-2.512119</td>\n",
       "      <td>-2.469427</td>\n",
       "      <td>0.822793</td>\n",
       "      <td>-1.821670</td>\n",
       "      <td>-2.475899</td>\n",
       "      <td>-0.852233</td>\n",
       "      <td>-2.570246</td>\n",
       "      <td>-3.057747</td>\n",
       "      <td>...</td>\n",
       "      <td>-4.018957</td>\n",
       "      <td>0.011604</td>\n",
       "      <td>-1.970984</td>\n",
       "      <td>-3.879463</td>\n",
       "      <td>-0.205050</td>\n",
       "      <td>0.063446</td>\n",
       "      <td>-4.423705</td>\n",
       "      <td>-0.138430</td>\n",
       "      <td>1.097049</td>\n",
       "      <td>-133.191188</td>\n",
       "    </tr>\n",
       "    <tr>\n",
       "      <th>4</th>\n",
       "      <td>-3.450782</td>\n",
       "      <td>3.334512</td>\n",
       "      <td>4.114650</td>\n",
       "      <td>-4.447155</td>\n",
       "      <td>3.741390</td>\n",
       "      <td>4.341071</td>\n",
       "      <td>-4.552629</td>\n",
       "      <td>0.118057</td>\n",
       "      <td>4.181421</td>\n",
       "      <td>-3.188349</td>\n",
       "      <td>...</td>\n",
       "      <td>-2.697286</td>\n",
       "      <td>3.171041</td>\n",
       "      <td>4.908800</td>\n",
       "      <td>-4.440723</td>\n",
       "      <td>-0.970431</td>\n",
       "      <td>3.946023</td>\n",
       "      <td>-4.649342</td>\n",
       "      <td>-2.117911</td>\n",
       "      <td>3.776332</td>\n",
       "      <td>-133.232016</td>\n",
       "    </tr>\n",
       "  </tbody>\n",
       "</table>\n",
       "<p>5 rows × 22 columns</p>\n",
       "</div>"
      ],
      "text/plain": [
       "        C1x       C1y       C1z       H1x       H1y       H1z       H2x  \\\n",
       "0  1.350508  0.779024  0.663087  1.825709  1.257877 -0.189170  1.848891   \n",
       "1  1.366716  0.804290  0.682895  1.759809  1.361483 -0.178094  1.814160   \n",
       "2 -3.803611 -2.267309  0.764900 -3.796598 -3.150483  1.493531 -4.393698   \n",
       "3 -2.927686  0.153773 -2.512119 -2.469427  0.822793 -1.821670 -2.475899   \n",
       "4 -3.450782  3.334512  4.114650 -4.447155  3.741390  4.341071 -4.552629   \n",
       "\n",
       "        H2y       H2z       H3x      ...            H4x       H4y       H4z  \\\n",
       "0  1.089646  1.577782  0.303730      ...       1.423537 -0.300512  0.559417   \n",
       "1  1.125417  1.600315  0.283706      ...       1.449777 -0.299335  0.594701   \n",
       "2 -1.399793  1.007952 -4.217465      ...      -2.655651 -0.866691  1.937266   \n",
       "3 -0.852233 -2.570246 -3.057747      ...      -4.018957  0.011604 -1.970984   \n",
       "4  0.118057  4.181421 -3.188349      ...      -2.697286  3.171041  4.908800   \n",
       "\n",
       "        C2x       C2y       C2z        Nx        Ny        Nz  energy_b3lyp  \n",
       "0 -1.832366  1.293790 -2.492349 -1.370433  2.318893 -2.582710   -133.198709  \n",
       "1 -1.830842  1.305028 -2.473094 -1.354430  2.319260 -2.596931   -133.195259  \n",
       "2 -2.613919  0.179199  2.330572 -2.536911  1.241336  2.765962   -133.215182  \n",
       "3 -3.879463 -0.205050  0.063446 -4.423705 -0.138430  1.097049   -133.191188  \n",
       "4 -4.440723 -0.970431  3.946023 -4.649342 -2.117911  3.776332   -133.232016  \n",
       "\n",
       "[5 rows x 22 columns]"
      ]
     },
     "execution_count": 84,
     "metadata": {},
     "output_type": "execute_result"
    }
   ],
   "source": [
    "xy_b3lyp.head()"
   ]
  },
  {
   "cell_type": "code",
   "execution_count": 87,
   "metadata": {
    "collapsed": false
   },
   "outputs": [
    {
     "name": "stdout",
     "output_type": "stream",
     "text": [
      "(17756, 22)\n",
      "(17751, 22)\n"
     ]
    }
   ],
   "source": [
    "xy_b3lyp_u = xy_b3lyp.drop_duplicates(inplace=False)\n",
    "print(xy_b3lyp.shape)\n",
    "print(xy_b3lyp_u.shape)"
   ]
  },
  {
   "cell_type": "code",
   "execution_count": 94,
   "metadata": {
    "collapsed": false
   },
   "outputs": [
    {
     "name": "stdout",
     "output_type": "stream",
     "text": [
      "['C1x', 'C1y', 'C1z', 'H1x', 'H1y', 'H1z', 'H2x', 'H2y', 'H2z', 'H3x', 'H3y', 'H3z', 'H4x', 'H4y', 'H4z', 'C2x', 'C2y', 'C2z', 'Nx', 'Ny', 'Nz']\n"
     ]
    }
   ],
   "source": [
    "jcols = list(xzy_pbe_u.columns)[:-8]\n",
    "print(jcols)"
   ]
  },
  {
   "cell_type": "code",
   "execution_count": 97,
   "metadata": {
    "collapsed": false
   },
   "outputs": [
    {
     "name": "stdout",
     "output_type": "stream",
     "text": [
      "(17751, 30)\n"
     ]
    },
    {
     "data": {
      "text/html": [
       "<div>\n",
       "<style>\n",
       "    .dataframe thead tr:only-child th {\n",
       "        text-align: right;\n",
       "    }\n",
       "\n",
       "    .dataframe thead th {\n",
       "        text-align: left;\n",
       "    }\n",
       "\n",
       "    .dataframe tbody tr th {\n",
       "        vertical-align: top;\n",
       "    }\n",
       "</style>\n",
       "<table border=\"1\" class=\"dataframe\">\n",
       "  <thead>\n",
       "    <tr style=\"text-align: right;\">\n",
       "      <th></th>\n",
       "      <th>C1x</th>\n",
       "      <th>C1y</th>\n",
       "      <th>C1z</th>\n",
       "      <th>H1x</th>\n",
       "      <th>H1y</th>\n",
       "      <th>H1z</th>\n",
       "      <th>H2x</th>\n",
       "      <th>H2y</th>\n",
       "      <th>H2z</th>\n",
       "      <th>H3x</th>\n",
       "      <th>...</th>\n",
       "      <th>Nz</th>\n",
       "      <th>C1q</th>\n",
       "      <th>H1q</th>\n",
       "      <th>H2q</th>\n",
       "      <th>H3q</th>\n",
       "      <th>H4q</th>\n",
       "      <th>C2q</th>\n",
       "      <th>Nq</th>\n",
       "      <th>energy_pbe</th>\n",
       "      <th>energy_b3lyp</th>\n",
       "    </tr>\n",
       "  </thead>\n",
       "  <tbody>\n",
       "    <tr>\n",
       "      <th>0</th>\n",
       "      <td>1.350508</td>\n",
       "      <td>0.779024</td>\n",
       "      <td>0.663087</td>\n",
       "      <td>1.825709</td>\n",
       "      <td>1.257877</td>\n",
       "      <td>-0.189170</td>\n",
       "      <td>1.848891</td>\n",
       "      <td>1.089646</td>\n",
       "      <td>1.577782</td>\n",
       "      <td>0.303730</td>\n",
       "      <td>...</td>\n",
       "      <td>-2.582710</td>\n",
       "      <td>6.55438</td>\n",
       "      <td>0.86062</td>\n",
       "      <td>0.86105</td>\n",
       "      <td>0.86199</td>\n",
       "      <td>0.86194</td>\n",
       "      <td>6.18917</td>\n",
       "      <td>6.81086</td>\n",
       "      <td>-131.356978</td>\n",
       "      <td>-133.198709</td>\n",
       "    </tr>\n",
       "    <tr>\n",
       "      <th>1</th>\n",
       "      <td>1.366716</td>\n",
       "      <td>0.804290</td>\n",
       "      <td>0.682895</td>\n",
       "      <td>1.759809</td>\n",
       "      <td>1.361483</td>\n",
       "      <td>-0.178094</td>\n",
       "      <td>1.814160</td>\n",
       "      <td>1.125417</td>\n",
       "      <td>1.600315</td>\n",
       "      <td>0.283706</td>\n",
       "      <td>...</td>\n",
       "      <td>-2.596931</td>\n",
       "      <td>6.54250</td>\n",
       "      <td>0.86282</td>\n",
       "      <td>0.86075</td>\n",
       "      <td>0.86827</td>\n",
       "      <td>0.86548</td>\n",
       "      <td>6.18986</td>\n",
       "      <td>6.81033</td>\n",
       "      <td>-131.353254</td>\n",
       "      <td>-133.195259</td>\n",
       "    </tr>\n",
       "    <tr>\n",
       "      <th>2</th>\n",
       "      <td>1.948153</td>\n",
       "      <td>3.622904</td>\n",
       "      <td>2.081111</td>\n",
       "      <td>2.049626</td>\n",
       "      <td>3.765616</td>\n",
       "      <td>1.000288</td>\n",
       "      <td>2.693285</td>\n",
       "      <td>2.923731</td>\n",
       "      <td>2.344320</td>\n",
       "      <td>2.305255</td>\n",
       "      <td>...</td>\n",
       "      <td>-2.385047</td>\n",
       "      <td>6.54921</td>\n",
       "      <td>0.86531</td>\n",
       "      <td>0.85578</td>\n",
       "      <td>0.87014</td>\n",
       "      <td>0.85956</td>\n",
       "      <td>6.17456</td>\n",
       "      <td>6.82544</td>\n",
       "      <td>-131.353906</td>\n",
       "      <td>-133.191297</td>\n",
       "    </tr>\n",
       "    <tr>\n",
       "      <th>3</th>\n",
       "      <td>-4.295067</td>\n",
       "      <td>-3.402007</td>\n",
       "      <td>-0.431639</td>\n",
       "      <td>-3.743290</td>\n",
       "      <td>-3.885034</td>\n",
       "      <td>0.405351</td>\n",
       "      <td>-4.703227</td>\n",
       "      <td>-2.395147</td>\n",
       "      <td>-0.357631</td>\n",
       "      <td>-4.912492</td>\n",
       "      <td>...</td>\n",
       "      <td>2.771718</td>\n",
       "      <td>6.46360</td>\n",
       "      <td>0.84451</td>\n",
       "      <td>0.84585</td>\n",
       "      <td>0.84602</td>\n",
       "      <td>0.82700</td>\n",
       "      <td>6.04259</td>\n",
       "      <td>7.13044</td>\n",
       "      <td>-131.361634</td>\n",
       "      <td>-133.232957</td>\n",
       "    </tr>\n",
       "    <tr>\n",
       "      <th>4</th>\n",
       "      <td>-4.329216</td>\n",
       "      <td>-3.413882</td>\n",
       "      <td>-0.419582</td>\n",
       "      <td>-3.788901</td>\n",
       "      <td>-3.958677</td>\n",
       "      <td>0.381595</td>\n",
       "      <td>-4.796726</td>\n",
       "      <td>-2.417300</td>\n",
       "      <td>-0.361777</td>\n",
       "      <td>-4.924910</td>\n",
       "      <td>...</td>\n",
       "      <td>2.769733</td>\n",
       "      <td>6.46663</td>\n",
       "      <td>0.84255</td>\n",
       "      <td>0.84259</td>\n",
       "      <td>0.84821</td>\n",
       "      <td>0.82560</td>\n",
       "      <td>6.04077</td>\n",
       "      <td>7.13365</td>\n",
       "      <td>-131.359263</td>\n",
       "      <td>-133.231602</td>\n",
       "    </tr>\n",
       "  </tbody>\n",
       "</table>\n",
       "<p>5 rows × 30 columns</p>\n",
       "</div>"
      ],
      "text/plain": [
       "        C1x       C1y       C1z       H1x       H1y       H1z       H2x  \\\n",
       "0  1.350508  0.779024  0.663087  1.825709  1.257877 -0.189170  1.848891   \n",
       "1  1.366716  0.804290  0.682895  1.759809  1.361483 -0.178094  1.814160   \n",
       "2  1.948153  3.622904  2.081111  2.049626  3.765616  1.000288  2.693285   \n",
       "3 -4.295067 -3.402007 -0.431639 -3.743290 -3.885034  0.405351 -4.703227   \n",
       "4 -4.329216 -3.413882 -0.419582 -3.788901 -3.958677  0.381595 -4.796726   \n",
       "\n",
       "        H2y       H2z       H3x      ...             Nz      C1q      H1q  \\\n",
       "0  1.089646  1.577782  0.303730      ...      -2.582710  6.55438  0.86062   \n",
       "1  1.125417  1.600315  0.283706      ...      -2.596931  6.54250  0.86282   \n",
       "2  2.923731  2.344320  2.305255      ...      -2.385047  6.54921  0.86531   \n",
       "3 -2.395147 -0.357631 -4.912492      ...       2.771718  6.46360  0.84451   \n",
       "4 -2.417300 -0.361777 -4.924910      ...       2.769733  6.46663  0.84255   \n",
       "\n",
       "       H2q      H3q      H4q      C2q       Nq  energy_pbe  energy_b3lyp  \n",
       "0  0.86105  0.86199  0.86194  6.18917  6.81086 -131.356978   -133.198709  \n",
       "1  0.86075  0.86827  0.86548  6.18986  6.81033 -131.353254   -133.195259  \n",
       "2  0.85578  0.87014  0.85956  6.17456  6.82544 -131.353906   -133.191297  \n",
       "3  0.84585  0.84602  0.82700  6.04259  7.13044 -131.361634   -133.232957  \n",
       "4  0.84259  0.84821  0.82560  6.04077  7.13365 -131.359263   -133.231602  \n",
       "\n",
       "[5 rows x 30 columns]"
      ]
     },
     "execution_count": 97,
     "metadata": {},
     "output_type": "execute_result"
    }
   ],
   "source": [
    "xy = xzy_pbe_u.merge(right=xy_b3lyp_u, how='right', on=jcols, suffixes=('_b3lyp', '_pbe'))\n",
    "print(xy.shape)\n",
    "xy.head()"
   ]
  },
  {
   "cell_type": "code",
   "execution_count": 98,
   "metadata": {
    "collapsed": false
   },
   "outputs": [
    {
     "name": "stdout",
     "output_type": "stream",
     "text": [
      "['C1x', 'C1y', 'C1z', 'H1x', 'H1y', 'H1z', 'H2x', 'H2y', 'H2z', 'H3x', 'H3y', 'H3z', 'H4x', 'H4y', 'H4z', 'C2x', 'C2y', 'C2z', 'Nx', 'Ny', 'Nz', 'C1q', 'H1q', 'H2q', 'H3q', 'H4q', 'C2q', 'Nq', 'energy_pbe', 'energy_b3lyp']\n"
     ]
    }
   ],
   "source": [
    "print(list(xy.columns))"
   ]
  },
  {
   "cell_type": "code",
   "execution_count": 1,
   "metadata": {
    "collapsed": false
   },
   "outputs": [
    {
     "ename": "NameError",
     "evalue": "name 'xy' is not defined",
     "output_type": "error",
     "traceback": [
      "\u001b[0;31m---------------------------------------------------------------------------\u001b[0m",
      "\u001b[0;31mNameError\u001b[0m                                 Traceback (most recent call last)",
      "\u001b[0;32m<ipython-input-1-d7a6fc5fe2f0>\u001b[0m in \u001b[0;36m<module>\u001b[0;34m()\u001b[0m\n\u001b[0;32m----> 1\u001b[0;31m \u001b[0mdf\u001b[0m \u001b[0;34m=\u001b[0m \u001b[0mxy\u001b[0m\u001b[0;34m.\u001b[0m\u001b[0mcolumns\u001b[0m\u001b[0;34m[\u001b[0m\u001b[0mC1x\u001b[0m\u001b[0;34m]\u001b[0m\u001b[0;34m**\u001b[0m\u001b[0;36m2\u001b[0m\u001b[0;34m\u001b[0m\u001b[0m\n\u001b[0m",
      "\u001b[0;31mNameError\u001b[0m: name 'xy' is not defined"
     ]
    }
   ],
   "source": [
    "df = xy.columns[C1x]**2"
   ]
  },
  {
   "cell_type": "code",
   "execution_count": null,
   "metadata": {
    "collapsed": true
   },
   "outputs": [],
   "source": [
    "xy.to_csv('pbe_b3lyp_partQ.csv')"
   ]
  }
 ],
 "metadata": {
  "anaconda-cloud": {},
  "kernelspec": {
   "display_name": "Python [conda root]",
   "language": "python",
   "name": "conda-root-py"
  },
  "language_info": {
   "codemirror_mode": {
    "name": "ipython",
    "version": 2
   },
   "file_extension": ".py",
   "mimetype": "text/x-python",
   "name": "python",
   "nbconvert_exporter": "python",
   "pygments_lexer": "ipython2",
   "version": "2.7.12"
  }
 },
 "nbformat": 4,
 "nbformat_minor": 1
}
